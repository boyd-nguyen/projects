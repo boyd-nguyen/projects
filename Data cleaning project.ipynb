{
 "cells": [
  {
   "cell_type": "markdown",
   "id": "b67a83bb",
   "metadata": {},
   "source": [
    "# Data clean project 1: Xbox games\n",
    "\n",
    "The aim of this project is to scrape the Xbox's games catalogue (https://www.xbox.com/en-AU/games/all-games), and create a clean dataset of games."
   ]
  },
  {
   "cell_type": "markdown",
   "id": "50d5341a",
   "metadata": {},
   "source": [
    "## Scraping\n",
    "\n",
    "I used `beautifulSoup` and `selenium` to scrape the dymaic Xbox's games catalogue page."
   ]
  },
  {
   "cell_type": "code",
   "execution_count": 70,
   "id": "c2c09f0b",
   "metadata": {},
   "outputs": [],
   "source": [
    "import bs4, requests\n",
    "from selenium import webdriver\n",
    "import time\n",
    "import pandas as pd, numpy as np\n",
    "import os\n",
    "import random\n",
    "\n",
    "#%%SET UP SELENIUM DRIVER\n",
    "driver = webdriver.Chrome(r'C:\\Users\\boydn\\Desktop\\Work and Study\\Projects\\chromedriver.exe')\n",
    "driver.get('https://www.xbox.com/en-AU/games/all-games')\n",
    "time.sleep(10)"
   ]
  },
  {
   "cell_type": "markdown",
   "id": "70ae7a0a",
   "metadata": {},
   "source": [
    "One quirk I haven't found a reason for was that the `data-bi-name` attribute that allowed me to click through the pages was not present after running the driver. This caused an error in the code below and broke the entire script. I worked out a solution which was to scroll the pagination block and click a random thing in it. That seemed to do the trick."
   ]
  },
  {
   "cell_type": "code",
   "execution_count": null,
   "id": "6300ee0e",
   "metadata": {},
   "outputs": [],
   "source": [
    "driver.execute_script(\"document.querySelector('ul.m-pagination').scrollIntoView()\")\n",
    "driver.find_element_by_css_selector('button#unique-id-for-paglist-generated-select-menu-trigger').click()"
   ]
  },
  {
   "cell_type": "code",
   "execution_count": 71,
   "id": "08f22581",
   "metadata": {},
   "outputs": [
    {
     "name": "stdout",
     "output_type": "stream",
     "text": [
      "End page reached.\n"
     ]
    }
   ],
   "source": [
    "#%%SCRAPE\n",
    "\n",
    "page = 1\n",
    "links = []\n",
    "product_id = []\n",
    "release_date = []\n",
    "ms_product = []\n",
    "multiplayer = []\n",
    "rating = []\n",
    "price = []\n",
    "name = []\n",
    "\n",
    "\n",
    "while page <= 52:   \n",
    "    soup = bs4.BeautifulSoup(driver.page_source, features='lxml')\n",
    "    \n",
    "    items = soup.select('div.m-product-placement-item')\n",
    "    \n",
    "    for item in items:\n",
    "        product_id.append(item.get('data-bigid'))\n",
    "        release_date.append(item.get('data-releasedate'))\n",
    "        ms_product.append(item.get('data-msproduct'))\n",
    "        multiplayer.append(item.get('data-multiplayer'))\n",
    "        rating.append(item.get('data-rating'))\n",
    "        price.append(item.get('data-listprice'))\n",
    "    \n",
    "    game_links = soup.select('a.gameDivLink')\n",
    "    \n",
    "    for game in game_links:\n",
    "        links.append(game.get('href'))\n",
    "        for child in game.children:\n",
    "            if child.name == 'div':\n",
    "                name.append(child.getText())\n",
    "    page += 1\n",
    "    page_css = 'a[data-bi-name=\"' + str(page) + '\"]'\n",
    "    \n",
    "    try:\n",
    "        elem = driver.find_element_by_css_selector(page_css)\n",
    "    except:\n",
    "        print('End page reached.')\n",
    "        break\n",
    "\n",
    "    elem.click()\n",
    "    time.sleep(random.randint(1, 3))\n",
    "    \n",
    "game_data = {\n",
    "    'product_id': product_id,\n",
    "    'release_date': release_date,\n",
    "    'name': name,\n",
    "    'ms_product': ms_product,\n",
    "    'rating': rating,\n",
    "    'multiplayer': multiplayer,\n",
    "    'link': links,\n",
    "    'price': price\n",
    "    }\n",
    "\n",
    "os.chdir(r'C:\\Users\\boydn\\Desktop\\Work and Study\\Projects\\1. Data cleaning')\n",
    "xbox = pd.DataFrame(game_data)"
   ]
  },
  {
   "cell_type": "markdown",
   "id": "4c9b8e2e",
   "metadata": {},
   "source": [
    "## Data wrangling"
   ]
  },
  {
   "cell_type": "code",
   "execution_count": 72,
   "id": "e74e95a6",
   "metadata": {},
   "outputs": [],
   "source": [
    "import pandas as pd, numpy as np"
   ]
  },
  {
   "cell_type": "code",
   "execution_count": 73,
   "id": "ff1b7bac",
   "metadata": {},
   "outputs": [],
   "source": [
    "xbox.to_csv('xbox_data.csv')"
   ]
  },
  {
   "cell_type": "code",
   "execution_count": 75,
   "id": "0fa135b0",
   "metadata": {},
   "outputs": [
    {
     "name": "stdout",
     "output_type": "stream",
     "text": [
      "<class 'pandas.core.frame.DataFrame'>\n",
      "RangeIndex: 2572 entries, 0 to 2571\n",
      "Data columns (total 8 columns):\n",
      " #   Column        Non-Null Count  Dtype \n",
      "---  ------        --------------  ----- \n",
      " 0   product_id    2572 non-null   object\n",
      " 1   release_date  2572 non-null   object\n",
      " 2   name          2572 non-null   object\n",
      " 3   ms_product    2572 non-null   object\n",
      " 4   rating        2572 non-null   object\n",
      " 5   multiplayer   2572 non-null   object\n",
      " 6   link          2572 non-null   object\n",
      " 7   price         2572 non-null   object\n",
      "dtypes: object(8)\n",
      "memory usage: 160.9+ KB\n"
     ]
    }
   ],
   "source": [
    "xbox.info()"
   ]
  },
  {
   "cell_type": "code",
   "execution_count": 78,
   "id": "600da7e2",
   "metadata": {},
   "outputs": [
    {
     "data": {
      "text/html": [
       "<div>\n",
       "<style scoped>\n",
       "    .dataframe tbody tr th:only-of-type {\n",
       "        vertical-align: middle;\n",
       "    }\n",
       "\n",
       "    .dataframe tbody tr th {\n",
       "        vertical-align: top;\n",
       "    }\n",
       "\n",
       "    .dataframe thead th {\n",
       "        text-align: right;\n",
       "    }\n",
       "</style>\n",
       "<table border=\"1\" class=\"dataframe\">\n",
       "  <thead>\n",
       "    <tr style=\"text-align: right;\">\n",
       "      <th></th>\n",
       "      <th>product_id</th>\n",
       "      <th>release_date</th>\n",
       "      <th>name</th>\n",
       "      <th>ms_product</th>\n",
       "      <th>rating</th>\n",
       "      <th>multiplayer</th>\n",
       "      <th>link</th>\n",
       "      <th>price</th>\n",
       "    </tr>\n",
       "  </thead>\n",
       "  <tbody>\n",
       "    <tr>\n",
       "      <th>0</th>\n",
       "      <td>C54H8FDKTJPG</td>\n",
       "      <td>2017-12-19T00:00:00.0000000Z</td>\n",
       "      <td>Grand Theft Auto V: Premium Edition &amp; Great Wh...</td>\n",
       "      <td>false</td>\n",
       "      <td>Restricted to 18+</td>\n",
       "      <td>true</td>\n",
       "      <td>https://www.xbox.com/en-au/games/gta-v</td>\n",
       "      <td>69.95</td>\n",
       "    </tr>\n",
       "    <tr>\n",
       "      <th>1</th>\n",
       "      <td>9N6FTC4QJMWN</td>\n",
       "      <td>2020-09-09T00:00:00.0000000Z</td>\n",
       "      <td>CarX Drift Racing Online$44.95</td>\n",
       "      <td>false</td>\n",
       "      <td>General</td>\n",
       "      <td>true</td>\n",
       "      <td>https://www.microsoft.com/en-au/p/carx-drift-r...</td>\n",
       "      <td>44.95</td>\n",
       "    </tr>\n",
       "    <tr>\n",
       "      <th>2</th>\n",
       "      <td>9NH019ZFFHTV</td>\n",
       "      <td>2021-08-12T00:00:00.0000000Z</td>\n",
       "      <td>Car Mechanic Simulator 2021$44.95</td>\n",
       "      <td>false</td>\n",
       "      <td>General</td>\n",
       "      <td>false</td>\n",
       "      <td>https://www.microsoft.com/en-au/p/car-mechanic...</td>\n",
       "      <td>44.95</td>\n",
       "    </tr>\n",
       "    <tr>\n",
       "      <th>3</th>\n",
       "      <td>9NV34NLCLG81</td>\n",
       "      <td>2017-10-02T13:00:00.0000000Z</td>\n",
       "      <td>Forza Motorsport 7 Ultimate EditionFull price ...</td>\n",
       "      <td>true</td>\n",
       "      <td>General</td>\n",
       "      <td>true</td>\n",
       "      <td>https://www.xbox.com/en-au/games/forza-7</td>\n",
       "      <td>29.98</td>\n",
       "    </tr>\n",
       "    <tr>\n",
       "      <th>4</th>\n",
       "      <td>9N2DMQBN9RC4</td>\n",
       "      <td>2020-12-16T18:00:00.0000000Z</td>\n",
       "      <td>Call of Duty®: Black Ops Cold War$99.95</td>\n",
       "      <td>false</td>\n",
       "      <td>Restricted</td>\n",
       "      <td>true</td>\n",
       "      <td>https://www.microsoft.com/en-au/p/call-of-duty...</td>\n",
       "      <td>99.95</td>\n",
       "    </tr>\n",
       "  </tbody>\n",
       "</table>\n",
       "</div>"
      ],
      "text/plain": [
       "     product_id                  release_date  \\\n",
       "0  C54H8FDKTJPG  2017-12-19T00:00:00.0000000Z   \n",
       "1  9N6FTC4QJMWN  2020-09-09T00:00:00.0000000Z   \n",
       "2  9NH019ZFFHTV  2021-08-12T00:00:00.0000000Z   \n",
       "3  9NV34NLCLG81  2017-10-02T13:00:00.0000000Z   \n",
       "4  9N2DMQBN9RC4  2020-12-16T18:00:00.0000000Z   \n",
       "\n",
       "                                                name ms_product  \\\n",
       "0  Grand Theft Auto V: Premium Edition & Great Wh...      false   \n",
       "1                     CarX Drift Racing Online$44.95      false   \n",
       "2                  Car Mechanic Simulator 2021$44.95      false   \n",
       "3  Forza Motorsport 7 Ultimate EditionFull price ...       true   \n",
       "4            Call of Duty®: Black Ops Cold War$99.95      false   \n",
       "\n",
       "              rating multiplayer  \\\n",
       "0  Restricted to 18+        true   \n",
       "1            General        true   \n",
       "2            General       false   \n",
       "3            General        true   \n",
       "4         Restricted        true   \n",
       "\n",
       "                                                link  price  \n",
       "0             https://www.xbox.com/en-au/games/gta-v  69.95  \n",
       "1  https://www.microsoft.com/en-au/p/carx-drift-r...  44.95  \n",
       "2  https://www.microsoft.com/en-au/p/car-mechanic...  44.95  \n",
       "3           https://www.xbox.com/en-au/games/forza-7  29.98  \n",
       "4  https://www.microsoft.com/en-au/p/call-of-duty...  99.95  "
      ]
     },
     "execution_count": 78,
     "metadata": {},
     "output_type": "execute_result"
    }
   ],
   "source": [
    "xbox.head()\n",
    "#xbox = xbox.drop('Unnamed: 0', axis=1)   #DROP COLUMN"
   ]
  },
  {
   "cell_type": "markdown",
   "id": "d7420b6d",
   "metadata": {},
   "source": [
    "Convert price to float type:"
   ]
  },
  {
   "cell_type": "code",
   "execution_count": 79,
   "id": "d7840802",
   "metadata": {},
   "outputs": [],
   "source": [
    "xbox['price'] = xbox['price'].astype(float) #CONVERT PRICE TO FLOAT TYPE"
   ]
  },
  {
   "cell_type": "markdown",
   "id": "a6aa7aa0",
   "metadata": {},
   "source": [
    "Process datetime values:"
   ]
  },
  {
   "cell_type": "code",
   "execution_count": 80,
   "id": "21d16b2e",
   "metadata": {},
   "outputs": [
    {
     "data": {
      "text/plain": [
       "False    2572\n",
       "Name: release_date, dtype: int64"
      ]
     },
     "execution_count": 80,
     "metadata": {},
     "output_type": "execute_result"
    }
   ],
   "source": [
    "xbox['release_date'].isnull().value_counts() #NO MISSING RELEASE DATE"
   ]
  },
  {
   "cell_type": "code",
   "execution_count": 81,
   "id": "b5010907",
   "metadata": {},
   "outputs": [],
   "source": [
    "xbox['release_date'] = pd.to_datetime(xbox['release_date'], errors='coerce')  #A FEW DATES WERE INVALID, SO USE COERCE"
   ]
  },
  {
   "cell_type": "code",
   "execution_count": 82,
   "id": "8da1a1d1",
   "metadata": {},
   "outputs": [
    {
     "data": {
      "text/plain": [
       "4"
      ]
     },
     "execution_count": 82,
     "metadata": {},
     "output_type": "execute_result"
    }
   ],
   "source": [
    "xbox['release_date'].isnull().sum()  #THE INVALID DATES ARE CONVERTED TO NaN, THERE ARE ONLY 4 OF THEM"
   ]
  },
  {
   "cell_type": "markdown",
   "id": "1a7c1353",
   "metadata": {},
   "source": [
    "The next step is to clean the game names: getting ride of the price and copyright symbols:"
   ]
  },
  {
   "cell_type": "code",
   "execution_count": 84,
   "id": "ae299d97",
   "metadata": {},
   "outputs": [
    {
     "data": {
      "text/plain": [
       "0     Grand Theft Auto V: Premium Edition & Great Wh...\n",
       "1                        CarX Drift Racing Online$44.95\n",
       "2                     Car Mechanic Simulator 2021$44.95\n",
       "3     Forza Motorsport 7 Ultimate EditionFull price ...\n",
       "4               Call of Duty®: Black Ops Cold War$99.95\n",
       "5            Tom Clancy’s Ghost Recon® Breakpoint$99.95\n",
       "6                                      Far Cry® 5$99.95\n",
       "7             Grand Theft Auto V: Premium Edition$47.95\n",
       "8             Fallout 4: Game of the Year Edition$54.95\n",
       "9                  Assassin's Creed IV Black Flag$29.95\n",
       "10    ASSASSIN'S CREED® VALHALLA - DELUXE EDITION$12...\n",
       "11                                      Minecraft$29.95\n",
       "12                           Rust Console Edition$74.95\n",
       "13                         Madden NFL 22 Xbox One$99.95\n",
       "14                                  Assetto Corsa$39.95\n",
       "Name: name, dtype: object"
      ]
     },
     "execution_count": 84,
     "metadata": {},
     "output_type": "execute_result"
    }
   ],
   "source": [
    "xbox.name[:15]"
   ]
  },
  {
   "cell_type": "code",
   "execution_count": 102,
   "id": "2787a165",
   "metadata": {},
   "outputs": [],
   "source": [
    "#ONLY GAMES WITH DISCOUNTS HAVE THE \"FULL PRICE WAS\" TEXT AT THE END OF THE GAME, SO THE FIRST STEP IS TO TAKE THEM OUT\n",
    "xbox['full_price'] = (xbox[\"name\"].str.extract(r'(Full price.*?\\$\\d+\\.\\d+)', expand=False)\n",
    "                                  .str.replace(r'Full price was $','', regex=False)\n",
    "                                  .astype(float))"
   ]
  },
  {
   "cell_type": "code",
   "execution_count": 86,
   "id": "edc560cc",
   "metadata": {},
   "outputs": [],
   "source": [
    "#WHAT'S LEFT IS THE CURRENT PRICE, I EXTRACTED THEM TO ANOTHER COLUMN NAMED new_price\n",
    "xbox['new_price'] = (xbox[\"name\"].str.extract(r'(\\$\\d+\\.+\\d+$)', expand=False)\n",
    "                                 .str.replace('$', '', regex=False)\n",
    "                                 .astype(float))"
   ]
  },
  {
   "cell_type": "code",
   "execution_count": 98,
   "id": "481a2864",
   "metadata": {
    "scrolled": true
   },
   "outputs": [],
   "source": [
    "#REMOVE THE PRICE, \"FULL PRICE\" TEXT, AND ANY NON-ASCII SYMPBOLS FROM GAME NAME\n",
    "xbox['name'] = (xbox[\"name\"].str.replace(r'Full price.*', '', regex=True)\n",
    "                            .str.replace(r'\\$\\d+\\.\\d+', '', regex=True)\n",
    "                            .str.replace(r'[^\\x00-\\x7F]', '', regex=True))"
   ]
  },
  {
   "cell_type": "code",
   "execution_count": 99,
   "id": "44aeac72",
   "metadata": {},
   "outputs": [],
   "source": [
    "#CALCULATE DISCOUNT PERCENT FOR GAMES ON SALE\n",
    "xbox['discount_percent'] = np.round((xbox['new_price'] / xbox['full_price']) - 1, 2)"
   ]
  },
  {
   "cell_type": "code",
   "execution_count": 100,
   "id": "3a43039b",
   "metadata": {},
   "outputs": [
    {
     "data": {
      "text/plain": [
       "0       Grand Theft Auto V: Premium Edition & Great Wh...\n",
       "1                                CarX Drift Racing Online\n",
       "2                             Car Mechanic Simulator 2021\n",
       "3                     Forza Motorsport 7 Ultimate Edition\n",
       "4                        Call of Duty: Black Ops Cold War\n",
       "                              ...                        \n",
       "2567                                         Unto The End\n",
       "2568                                     Autumn's Journey\n",
       "2569                              Do Not Feed the Monkeys\n",
       "2570                                                I, AI\n",
       "2571                         Lose Your Head Deluxe Bundle\n",
       "Name: name, Length: 2572, dtype: object"
      ]
     },
     "execution_count": 100,
     "metadata": {},
     "output_type": "execute_result"
    }
   ],
   "source": [
    "xbox['name']"
   ]
  },
  {
   "cell_type": "markdown",
   "id": "4b4dbba2",
   "metadata": {},
   "source": [
    "## Final product"
   ]
  },
  {
   "cell_type": "code",
   "execution_count": 103,
   "id": "2562b547",
   "metadata": {},
   "outputs": [
    {
     "data": {
      "text/html": [
       "<div>\n",
       "<style scoped>\n",
       "    .dataframe tbody tr th:only-of-type {\n",
       "        vertical-align: middle;\n",
       "    }\n",
       "\n",
       "    .dataframe tbody tr th {\n",
       "        vertical-align: top;\n",
       "    }\n",
       "\n",
       "    .dataframe thead th {\n",
       "        text-align: right;\n",
       "    }\n",
       "</style>\n",
       "<table border=\"1\" class=\"dataframe\">\n",
       "  <thead>\n",
       "    <tr style=\"text-align: right;\">\n",
       "      <th></th>\n",
       "      <th>product_id</th>\n",
       "      <th>release_date</th>\n",
       "      <th>name</th>\n",
       "      <th>ms_product</th>\n",
       "      <th>rating</th>\n",
       "      <th>multiplayer</th>\n",
       "      <th>link</th>\n",
       "      <th>price</th>\n",
       "      <th>full_price</th>\n",
       "      <th>new_price</th>\n",
       "      <th>discount_percent</th>\n",
       "    </tr>\n",
       "  </thead>\n",
       "  <tbody>\n",
       "    <tr>\n",
       "      <th>0</th>\n",
       "      <td>C54H8FDKTJPG</td>\n",
       "      <td>2017-12-19 00:00:00+00:00</td>\n",
       "      <td>Grand Theft Auto V: Premium Edition &amp; Great Wh...</td>\n",
       "      <td>false</td>\n",
       "      <td>Restricted to 18+</td>\n",
       "      <td>true</td>\n",
       "      <td>https://www.xbox.com/en-au/games/gta-v</td>\n",
       "      <td>69.95</td>\n",
       "      <td>NaN</td>\n",
       "      <td>69.95</td>\n",
       "      <td>NaN</td>\n",
       "    </tr>\n",
       "    <tr>\n",
       "      <th>1</th>\n",
       "      <td>9N6FTC4QJMWN</td>\n",
       "      <td>2020-09-09 00:00:00+00:00</td>\n",
       "      <td>CarX Drift Racing Online</td>\n",
       "      <td>false</td>\n",
       "      <td>General</td>\n",
       "      <td>true</td>\n",
       "      <td>https://www.microsoft.com/en-au/p/carx-drift-r...</td>\n",
       "      <td>44.95</td>\n",
       "      <td>NaN</td>\n",
       "      <td>44.95</td>\n",
       "      <td>NaN</td>\n",
       "    </tr>\n",
       "    <tr>\n",
       "      <th>2</th>\n",
       "      <td>9NH019ZFFHTV</td>\n",
       "      <td>2021-08-12 00:00:00+00:00</td>\n",
       "      <td>Car Mechanic Simulator 2021</td>\n",
       "      <td>false</td>\n",
       "      <td>General</td>\n",
       "      <td>false</td>\n",
       "      <td>https://www.microsoft.com/en-au/p/car-mechanic...</td>\n",
       "      <td>44.95</td>\n",
       "      <td>NaN</td>\n",
       "      <td>44.95</td>\n",
       "      <td>NaN</td>\n",
       "    </tr>\n",
       "    <tr>\n",
       "      <th>3</th>\n",
       "      <td>9NV34NLCLG81</td>\n",
       "      <td>2017-10-02 13:00:00+00:00</td>\n",
       "      <td>Forza Motorsport 7 Ultimate Edition</td>\n",
       "      <td>true</td>\n",
       "      <td>General</td>\n",
       "      <td>true</td>\n",
       "      <td>https://www.xbox.com/en-au/games/forza-7</td>\n",
       "      <td>29.98</td>\n",
       "      <td>NaN</td>\n",
       "      <td>29.98</td>\n",
       "      <td>-0.75</td>\n",
       "    </tr>\n",
       "    <tr>\n",
       "      <th>4</th>\n",
       "      <td>9N2DMQBN9RC4</td>\n",
       "      <td>2020-12-16 18:00:00+00:00</td>\n",
       "      <td>Call of Duty: Black Ops Cold War</td>\n",
       "      <td>false</td>\n",
       "      <td>Restricted</td>\n",
       "      <td>true</td>\n",
       "      <td>https://www.microsoft.com/en-au/p/call-of-duty...</td>\n",
       "      <td>99.95</td>\n",
       "      <td>NaN</td>\n",
       "      <td>99.95</td>\n",
       "      <td>NaN</td>\n",
       "    </tr>\n",
       "    <tr>\n",
       "      <th>...</th>\n",
       "      <td>...</td>\n",
       "      <td>...</td>\n",
       "      <td>...</td>\n",
       "      <td>...</td>\n",
       "      <td>...</td>\n",
       "      <td>...</td>\n",
       "      <td>...</td>\n",
       "      <td>...</td>\n",
       "      <td>...</td>\n",
       "      <td>...</td>\n",
       "      <td>...</td>\n",
       "    </tr>\n",
       "    <tr>\n",
       "      <th>2567</th>\n",
       "      <td>9MVJ0W5N2L2Q</td>\n",
       "      <td>2020-12-09 00:00:00+00:00</td>\n",
       "      <td>Unto The End</td>\n",
       "      <td>false</td>\n",
       "      <td>Mature</td>\n",
       "      <td>false</td>\n",
       "      <td>https://www.microsoft.com/en-au/p/unto-the-end...</td>\n",
       "      <td>37.45</td>\n",
       "      <td>NaN</td>\n",
       "      <td>37.45</td>\n",
       "      <td>NaN</td>\n",
       "    </tr>\n",
       "    <tr>\n",
       "      <th>2568</th>\n",
       "      <td>9N2Z0W08GB5F</td>\n",
       "      <td>2020-12-09 00:00:00+00:00</td>\n",
       "      <td>Autumn's Journey</td>\n",
       "      <td>false</td>\n",
       "      <td>Mature</td>\n",
       "      <td>false</td>\n",
       "      <td>https://www.microsoft.com/en-au/p/autumns-jour...</td>\n",
       "      <td>7.45</td>\n",
       "      <td>NaN</td>\n",
       "      <td>7.45</td>\n",
       "      <td>NaN</td>\n",
       "    </tr>\n",
       "    <tr>\n",
       "      <th>2569</th>\n",
       "      <td>9N8QGLQSKR77</td>\n",
       "      <td>2020-12-09 00:00:00+00:00</td>\n",
       "      <td>Do Not Feed the Monkeys</td>\n",
       "      <td>false</td>\n",
       "      <td>Restricted</td>\n",
       "      <td>false</td>\n",
       "      <td>https://www.microsoft.com/en-au/p/do-not-feed-...</td>\n",
       "      <td>18.95</td>\n",
       "      <td>NaN</td>\n",
       "      <td>18.95</td>\n",
       "      <td>NaN</td>\n",
       "    </tr>\n",
       "    <tr>\n",
       "      <th>2570</th>\n",
       "      <td>9NT15BZXFHXF</td>\n",
       "      <td>2020-12-09 00:00:00+00:00</td>\n",
       "      <td>I, AI</td>\n",
       "      <td>false</td>\n",
       "      <td>Parental guidance</td>\n",
       "      <td>false</td>\n",
       "      <td>https://www.microsoft.com/en-au/p/i-ai/9NT15BZ...</td>\n",
       "      <td>14.95</td>\n",
       "      <td>NaN</td>\n",
       "      <td>14.95</td>\n",
       "      <td>NaN</td>\n",
       "    </tr>\n",
       "    <tr>\n",
       "      <th>2571</th>\n",
       "      <td>9N4SG9CVKFXT</td>\n",
       "      <td>2020-12-08 18:29:44.258021500+00:00</td>\n",
       "      <td>Lose Your Head Deluxe Bundle</td>\n",
       "      <td>false</td>\n",
       "      <td>Parental guidance</td>\n",
       "      <td>false</td>\n",
       "      <td>https://www.microsoft.com/en-au/p/lose-your-he...</td>\n",
       "      <td>29.95</td>\n",
       "      <td>NaN</td>\n",
       "      <td>29.95</td>\n",
       "      <td>NaN</td>\n",
       "    </tr>\n",
       "  </tbody>\n",
       "</table>\n",
       "<p>2572 rows × 11 columns</p>\n",
       "</div>"
      ],
      "text/plain": [
       "        product_id                        release_date  \\\n",
       "0     C54H8FDKTJPG           2017-12-19 00:00:00+00:00   \n",
       "1     9N6FTC4QJMWN           2020-09-09 00:00:00+00:00   \n",
       "2     9NH019ZFFHTV           2021-08-12 00:00:00+00:00   \n",
       "3     9NV34NLCLG81           2017-10-02 13:00:00+00:00   \n",
       "4     9N2DMQBN9RC4           2020-12-16 18:00:00+00:00   \n",
       "...            ...                                 ...   \n",
       "2567  9MVJ0W5N2L2Q           2020-12-09 00:00:00+00:00   \n",
       "2568  9N2Z0W08GB5F           2020-12-09 00:00:00+00:00   \n",
       "2569  9N8QGLQSKR77           2020-12-09 00:00:00+00:00   \n",
       "2570  9NT15BZXFHXF           2020-12-09 00:00:00+00:00   \n",
       "2571  9N4SG9CVKFXT 2020-12-08 18:29:44.258021500+00:00   \n",
       "\n",
       "                                                   name ms_product  \\\n",
       "0     Grand Theft Auto V: Premium Edition & Great Wh...      false   \n",
       "1                              CarX Drift Racing Online      false   \n",
       "2                           Car Mechanic Simulator 2021      false   \n",
       "3                   Forza Motorsport 7 Ultimate Edition       true   \n",
       "4                      Call of Duty: Black Ops Cold War      false   \n",
       "...                                                 ...        ...   \n",
       "2567                                       Unto The End      false   \n",
       "2568                                   Autumn's Journey      false   \n",
       "2569                            Do Not Feed the Monkeys      false   \n",
       "2570                                              I, AI      false   \n",
       "2571                       Lose Your Head Deluxe Bundle      false   \n",
       "\n",
       "                 rating multiplayer  \\\n",
       "0     Restricted to 18+        true   \n",
       "1               General        true   \n",
       "2               General       false   \n",
       "3               General        true   \n",
       "4            Restricted        true   \n",
       "...                 ...         ...   \n",
       "2567             Mature       false   \n",
       "2568             Mature       false   \n",
       "2569         Restricted       false   \n",
       "2570  Parental guidance       false   \n",
       "2571  Parental guidance       false   \n",
       "\n",
       "                                                   link  price  full_price  \\\n",
       "0                https://www.xbox.com/en-au/games/gta-v  69.95         NaN   \n",
       "1     https://www.microsoft.com/en-au/p/carx-drift-r...  44.95         NaN   \n",
       "2     https://www.microsoft.com/en-au/p/car-mechanic...  44.95         NaN   \n",
       "3              https://www.xbox.com/en-au/games/forza-7  29.98         NaN   \n",
       "4     https://www.microsoft.com/en-au/p/call-of-duty...  99.95         NaN   \n",
       "...                                                 ...    ...         ...   \n",
       "2567  https://www.microsoft.com/en-au/p/unto-the-end...  37.45         NaN   \n",
       "2568  https://www.microsoft.com/en-au/p/autumns-jour...   7.45         NaN   \n",
       "2569  https://www.microsoft.com/en-au/p/do-not-feed-...  18.95         NaN   \n",
       "2570  https://www.microsoft.com/en-au/p/i-ai/9NT15BZ...  14.95         NaN   \n",
       "2571  https://www.microsoft.com/en-au/p/lose-your-he...  29.95         NaN   \n",
       "\n",
       "      new_price  discount_percent  \n",
       "0         69.95               NaN  \n",
       "1         44.95               NaN  \n",
       "2         44.95               NaN  \n",
       "3         29.98             -0.75  \n",
       "4         99.95               NaN  \n",
       "...         ...               ...  \n",
       "2567      37.45               NaN  \n",
       "2568       7.45               NaN  \n",
       "2569      18.95               NaN  \n",
       "2570      14.95               NaN  \n",
       "2571      29.95               NaN  \n",
       "\n",
       "[2572 rows x 11 columns]"
      ]
     },
     "execution_count": 103,
     "metadata": {},
     "output_type": "execute_result"
    }
   ],
   "source": [
    "xbox"
   ]
  },
  {
   "cell_type": "code",
   "execution_count": null,
   "id": "6940cf13",
   "metadata": {},
   "outputs": [],
   "source": []
  }
 ],
 "metadata": {
  "kernelspec": {
   "display_name": "Python 3",
   "language": "python",
   "name": "python3"
  },
  "language_info": {
   "codemirror_mode": {
    "name": "ipython",
    "version": 3
   },
   "file_extension": ".py",
   "mimetype": "text/x-python",
   "name": "python",
   "nbconvert_exporter": "python",
   "pygments_lexer": "ipython3",
   "version": "3.7.6"
  }
 },
 "nbformat": 4,
 "nbformat_minor": 5
}
